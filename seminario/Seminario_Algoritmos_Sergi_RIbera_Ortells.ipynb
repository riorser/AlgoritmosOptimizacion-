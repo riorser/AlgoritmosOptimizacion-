{
  "nbformat": 4,
  "nbformat_minor": 0,
  "metadata": {
    "colab": {
      "provenance": []
    },
    "kernelspec": {
      "name": "python3",
      "display_name": "Python 3"
    }
  },
  "cells": [
    {
      "cell_type": "markdown",
      "metadata": {
        "id": "hVbXYX-RfPWh"
      },
      "source": [
        "# Algoritmos de optimización - Seminario<br>\n",
        "Nombre y Apellidos:  Sergi Ribera Ortells <br>\n",
        "Url: https://github.com/riorser/AlgoritmosOptimizacion-.git<br>\n",
        "Problema:\n",
        "> 1. Combinar cifras y operaciones\n",
        "\n",
        "Descripción del problema:\n",
        "\n",
        "- El problema consiste en analizar el siguiente problema y diseñar un algoritmo que lo resuelva.\n",
        "- Disponemos de las 9 cifras del 1 al 9 (excluimos el cero) y de los 4 signos básicos de las operaciones fundamentales: suma(+), resta(-), multiplicación(*) y división(/)\n",
        "- Debemos combinarlos alternativamente sin repetir ninguno de ellos para obtener una cantidad dada.\n",
        "\n",
        "\n",
        "\n",
        "\n",
        "\n",
        "                                        "
      ]
    },
    {
      "cell_type": "markdown",
      "source": [
        "Para empezar con el análisis del problema vamos a contar el número de operaciones que se tiene que hacer si resolvemos esto por fuerza bruta, para ello vemos que tenemos que elegir 5 números de 9 sin repeticiones, esto es: 9x8x7x6x5 todo esto por las posibles combinaciones de los 4 operadores, que sería: 4x3x2x1, esto nos da un resultado de 9!, lo que equivale a 362.880 posibles combinaciones, con un mínimo 4 operaciones, a lo que se le añaden las asignaciones, concatenaciones y diferentes operaciones que se deben hacer para que el código funcione.\n",
        "\n",
        "Esto no es algo que tenga un coste computacional excesivo, ya que con un ordenador actual esta cantidad de operaciones se puede hacer en unos segundos, pero si por casualidad decidimos añadir más operaciones, o más cifras o hacer que se puedan repetir cifras y operadores, podría llegar a aumentar mucho el tiempo de ejecución, por ese motivo se tiene que buscar alguna solución para disminuir el número de operaciones que se realizan.\n",
        "\n",
        "Para empezar vamos a ver cuales son las posibles soluciones que nos puede devolver el problema. Para eso si que vamos a usar la fuerza bruta y nos quedaremos con las soluciones enteras."
      ],
      "metadata": {
        "id": "XlC8eHeTjCas"
      }
    },
    {
      "cell_type": "code",
      "source": [
        "#primero vamos a importar las librerias necesarias para este trabajo en esta celda:\n",
        "from itertools import permutations, product\n",
        "import math\n",
        "import random\n",
        "import itertools"
      ],
      "metadata": {
        "id": "8vcNNiHe7B_p"
      },
      "execution_count": null,
      "outputs": []
    },
    {
      "cell_type": "code",
      "metadata": {
        "id": "AiskKkzZfy4e",
        "colab": {
          "base_uri": "https://localhost:8080/"
        },
        "outputId": "67c68056-69ca-466b-e39c-78cf53078618"
      },
      "source": [
        "def evaluate_expression(numbers, operators):\n",
        "  # A esta función se le pasa una lista de 5 digitos y 4 operadores, y los coloca en el orden correspondeinte.\n",
        "  # Por ejemplo: (1, 2, 3, 4, 5) y ('+', '-', '*', '/') no devuelve la expresión  '1+2-3*4/5' y la evalua.\n",
        "    expression = \"\"\n",
        "    for i in range(len(numbers)):\n",
        "        expression += str(numbers[i])\n",
        "        if i < len(operators):\n",
        "            expression += operators[i]\n",
        "    return eval(expression)\n",
        "\n",
        "numbers = [1, 2, 3, 4, 5, 6, 7, 8, 9]\n",
        "operators = ['+', '-', '*', '/']\n",
        "iter = 0\n",
        "iter_int = 0\n",
        "posibles_valores = []\n",
        "\n",
        "\n",
        "for number_perm in permutations(numbers, 5):\n",
        "    for operator_comb in permutations(operators):\n",
        "        result = evaluate_expression(number_perm, operator_comb)\n",
        "        iter += 1\n",
        "        if result-math.trunc(result)==0:\n",
        "            iter_int+=1\n",
        "            posibles_valores.append(result)\n",
        "\n",
        "\n",
        "print(f\"Valor máximo: {max(posibles_valores)}\")\n",
        "print(f\"Valores mínimo: {min(posibles_valores)}\")\n",
        "print(f\"Valores posibles: {set(posibles_valores)}\")\n",
        "print(f\"Total iteraciones: {iter}\")\n",
        "print(f\"Total iteraciones con resultado entero: {iter_int}\")\n",
        "\n",
        "\n"
      ],
      "execution_count": null,
      "outputs": [
        {
          "output_type": "stream",
          "name": "stdout",
          "text": [
            "Valor máximo: 77.0\n",
            "Valores mínimo: -69.0\n",
            "Valores posibles: {0.0, 1.0, 2.0, 3.0, 4.0, 5.0, 6.0, 7.0, 8.0, 9.0, 10.0, 11.0, 12.0, 13.0, 14.0, 15.0, 16.0, 17.0, 18.0, 19.0, 20.0, 21.0, 22.0, 23.0, 24.0, 25.0, 26.0, 27.0, 28.0, 29.0, 30.0, 31.0, 32.0, 33.0, 34.0, 35.0, 36.0, 37.0, 38.0, 39.0, 40.0, 41.0, 42.0, 43.0, 44.0, 45.0, 46.0, 47.0, 48.0, 49.0, 50.0, 51.0, 52.0, 53.0, 54.0, 55.0, 56.0, 57.0, 58.0, 59.0, 60.0, 61.0, 62.0, 63.0, 64.0, 65.0, 66.0, 67.0, 68.0, 69.0, 70.0, 71.0, 72.0, 73.0, 74.0, 75.0, 76.0, 77.0, -69.0, -68.0, -67.0, -66.0, -65.0, -64.0, -63.0, -62.0, -61.0, -60.0, -59.0, -58.0, -57.0, -56.0, -55.0, -54.0, -53.0, -52.0, -51.0, -50.0, -49.0, -48.0, -47.0, -46.0, -45.0, -44.0, -43.0, -42.0, -41.0, -40.0, -39.0, -38.0, -37.0, -36.0, -35.0, -34.0, -33.0, -32.0, -31.0, -30.0, -29.0, -28.0, -27.0, -26.0, -25.0, -24.0, -23.0, -22.0, -21.0, -20.0, -19.0, -18.0, -17.0, -16.0, -15.0, -14.0, -13.0, -12.0, -11.0, -1.0, -9.0, -8.0, -7.0, -6.0, -5.0, -4.0, -3.0, -2.0, -10.0}\n",
            "Total iteraciones: 362880\n",
            "Total iteraciones con resultado entero: 90000\n"
          ]
        }
      ]
    },
    {
      "cell_type": "markdown",
      "source": [
        "Con esto hemos obtenido el número de resultados enteros que se obtienen al iterar sobre toas las posibles combinaciones. también el valor máximo y mínimo que se puede obtener con estas combinaciones, y comprobamos que el número de permutaciones posibles es el que hemos comentado antes. Vamos ahora a ver si entre el máximo y el mínimo hay algun valor que no se pueda obtener:"
      ],
      "metadata": {
        "id": "jsGNpJmQxpaz"
      }
    },
    {
      "cell_type": "code",
      "source": [
        "for i in range(int(min(posibles_valores)), int(max(posibles_valores))):\n",
        "  if i not in posibles_valores:\n",
        "    print(f\"falta {i}\")"
      ],
      "metadata": {
        "id": "4ZvY2n-PxnpA"
      },
      "execution_count": null,
      "outputs": []
    },
    {
      "cell_type": "markdown",
      "source": [
        "Como no nos ha devuelto nada sabemos que todos los números enteros entre -69 y 77 se puede obtener con una combinación como las anteriores.\n",
        "\n",
        "Ahora vamos a construir la función por furza bruta y luego veremos una alternativa a la fuerza bruta:"
      ],
      "metadata": {
        "id": "vL149CnYqWjX"
      }
    },
    {
      "cell_type": "code",
      "source": [
        "def find_expression(target):\n",
        "  # Con esta función hacemos todas las permutaciónes de los 9 digitos y las 4 operaciones para buscar el valor target.\n",
        "  # Si no encuentra ninguna expresion que devuelva ese valor nos devuelve un none.\n",
        "    numbers = [1, 2, 3, 4, 5, 6, 7, 8, 9]\n",
        "    operators = ['+', '-', '*', '/']\n",
        "    iter = 0\n",
        "    posibles_valores = []\n",
        "\n",
        "\n",
        "    for number_perm in permutations(numbers, 5):\n",
        "        for operator_comb in permutations(operators):\n",
        "            result = evaluate_expression(number_perm, operator_comb)\n",
        "            iter += 1\n",
        "            if result == target:\n",
        "                expression = \"\"\n",
        "                for i in range(len(number_perm)):\n",
        "                    expression += str(number_perm[i])\n",
        "                    if i < len(operator_comb):\n",
        "                        expression += operator_comb[i]\n",
        "                return expression, iter\n",
        "\n",
        "    return None, iter\n",
        "\n"
      ],
      "metadata": {
        "id": "tz771v7WnwhE"
      },
      "execution_count": null,
      "outputs": []
    },
    {
      "cell_type": "code",
      "source": [
        "expression, iter = find_expression(77)\n",
        "\n",
        "if expression:\n",
        "    print(f\"Expresión : {expression}, en {iter} iteraciones\")\n",
        "else:\n",
        "    print(f\"No se encuentra expresión. Número de iteraciones totales: {iter}.\")"
      ],
      "metadata": {
        "colab": {
          "base_uri": "https://localhost:8080/"
        },
        "id": "VXuFw2v0zoAG",
        "outputId": "956565e5-b6af-403e-a7d3-c5275567487e"
      },
      "execution_count": null,
      "outputs": [
        {
          "output_type": "stream",
          "name": "stdout",
          "text": [
            "Expresión : 7/1-2+8*9, en 242517 iteraciones\n"
          ]
        }
      ]
    },
    {
      "cell_type": "code",
      "source": [
        "expression, iter = find_expression(-69)\n",
        "\n",
        "if expression:\n",
        "    print(f\"Expresión : {expression}, en {iter} iteraciones\")\n",
        "else:\n",
        "    print(f\"No se encuentra expresión. Número de iteraciones totales: {iter}.\")"
      ],
      "metadata": {
        "colab": {
          "base_uri": "https://localhost:8080/"
        },
        "id": "S_6cEYMkzn25",
        "outputId": "abfdef3a-bd93-439b-f551-3c43613a4784"
      },
      "execution_count": null,
      "outputs": [
        {
          "output_type": "stream",
          "name": "stdout",
          "text": [
            "Expresión : 1+4/2-8*9, en 10661 iteraciones\n"
          ]
        }
      ]
    },
    {
      "cell_type": "code",
      "source": [
        "expression, iter = find_expression(7)\n",
        "\n",
        "if expression:\n",
        "    print(f\"Expresión : {expression}, en {iter} iteraciones\")\n",
        "else:\n",
        "    print(f\"No se encuentra expresión. Número de iteraciones totales: {iter}.\")"
      ],
      "metadata": {
        "colab": {
          "base_uri": "https://localhost:8080/"
        },
        "id": "KfCO5MIuznuo",
        "outputId": "94ac1e26-f7d2-4d62-f263-66c8552f84a8"
      },
      "execution_count": null,
      "outputs": [
        {
          "output_type": "stream",
          "name": "stdout",
          "text": [
            "Expresión : 1-2*3/6+7, en 298 iteraciones\n"
          ]
        }
      ]
    },
    {
      "cell_type": "code",
      "source": [
        "expression, iter = find_expression(87)\n",
        "\n",
        "if expression:\n",
        "    print(f\"Expresión : {expression}, en {iter} iteraciones\")\n",
        "else:\n",
        "    print(f\"No se encuentra expresión. Número de iteraciones totales: {iter}.\")"
      ],
      "metadata": {
        "colab": {
          "base_uri": "https://localhost:8080/"
        },
        "id": "wkgmImGyznib",
        "outputId": "5694ce80-c561-46a4-d7be-7895d8ace2e6"
      },
      "execution_count": null,
      "outputs": [
        {
          "output_type": "stream",
          "name": "stdout",
          "text": [
            "No se encuentra expresión. Número de iteraciones totales: 362880.\n"
          ]
        }
      ]
    },
    {
      "cell_type": "markdown",
      "source": [
        "En función de que valor busquemos tardará más o menos, , cuando más centrico sea el número más posibilidades de encontrarlo pronto, ya que más posibles combinaciones hay para este valor.\n",
        "\n",
        "Cuando le pasamos un valor fuera del rango explora todas las posibles combinaciones y devuelve un None, vemos que ha tardado 3 segundos en hacer esta exploración.\n",
        "\n",
        "Esto se podría mejorar considerando que hay ciertos valores que se repiten, por ejemplo es lo mismo '3+4x5-6/7' que '4x5+3-6/7'. incluso esta solución no se debería considerar ya que es un número no entero. Se puede buscar la forma de excluir ciertas operaciones buscando si la fración produce un valor válido y evitando que se evaluen expresiones con los mismo valores, esto mejoraría mucho la eficiencia de este código, con unas buenas restricciones para excluir todas las posibles soluciones que no sean necesarias.\n",
        "\n"
      ],
      "metadata": {
        "id": "kZPTqVgF0kOR"
      }
    },
    {
      "cell_type": "code",
      "source": [
        "def generate_initial_state(operations, numbers):\n",
        "    # Generar una expresión inicial aleatoria\n",
        "    random_numbers = random.sample(numbers, 5)\n",
        "    random_operations = random.sample(operations,4)\n",
        "    expression = str(random_numbers[0])\n",
        "    for i in range(1, len(random_numbers)):\n",
        "        expression += random_operations[i-1] + str(random_numbers[i])\n",
        "    return expression\n",
        "\n",
        "def generate_neighbor(expression):\n",
        "    # Generar un vecino aleatorio modificando la expresión actual\n",
        "    # Permutamos dos operadores y cambiamos una cifra por otra no presente en la expresion\n",
        "    expr_list = list(expression)\n",
        "    index = random.sample([1,3,5,7], 2)\n",
        "    expr_list[index[0]], expr_list[index[1]] = expr_list[index[1]], expr_list[index[0]]\n",
        "    index_num = random.choice([0, 2, 4, 6 , 8])\n",
        "    expr_list[index_num] = str(random.choice([ x for x in numbers if str(x) not in expression]))\n",
        "    return ''.join(expr_list)\n",
        "\n",
        "def bajar_temp(T):\n",
        "    # Mutiplicamos la temperatura por el factor de enfriamiento\n",
        "    return T*0.9\n",
        "\n",
        "\n",
        "\n",
        "\n",
        "def simulated_annealing(target):\n",
        "    \"\"\"Encuentra una combinación de números y operaciones que resulte en el número objetivo usando Recocido Simulado\"\"\"\n",
        "    operations = ['+', '-', '*', '/']\n",
        "    numbers = [1, 2, 3, 4, 5, 6, 7, 8, 9]\n",
        "\n",
        "\n",
        "\n",
        "\n",
        "    current_state = generate_initial_state(operations, numbers)\n",
        "    current_value = eval(current_state)\n",
        "    current_heuristic = abs(current_value - target)\n",
        "\n",
        "    T = 1.0  # Temperatura inicial\n",
        "    T_min = 0.000000001  # Temperatura mínima\n",
        "    iter = 1 # contar el número de iteraciones\n",
        "\n",
        "    while T > T_min:\n",
        "        for _ in range(100):  # Número de iteraciones por temperatura\n",
        "            neighbor_state = generate_neighbor(current_state)\n",
        "            neighbor_value = eval(neighbor_state)\n",
        "            neighbor_heuristic = abs(neighbor_value - target)\n",
        "            iter += 1\n",
        "\n",
        "            if neighbor_heuristic == 0:\n",
        "                return neighbor_state, iter\n",
        "\n",
        "            delta_heuristic = neighbor_heuristic - current_heuristic\n",
        "            if delta_heuristic < 0 or math.exp(-delta_heuristic / T) > random.random():\n",
        "                current_state = neighbor_state\n",
        "                current_value = neighbor_value\n",
        "                current_heuristic = neighbor_heuristic\n",
        "\n",
        "        T = bajar_temp(T)\n",
        "\n",
        "    return None, iter\n",
        "\n"
      ],
      "metadata": {
        "id": "skbBXqvbAXJp"
      },
      "execution_count": null,
      "outputs": []
    },
    {
      "cell_type": "code",
      "source": [
        "expression, iter = simulated_annealing(8)\n",
        "\n",
        "\n",
        "if expression:\n",
        "    print(f\"Expresión : {expression}, en {iter} iteraciones\")\n",
        "else:\n",
        "    print(f\"No se encuentra expresión. Número de iteraciones totales: {iter}.\")"
      ],
      "metadata": {
        "colab": {
          "base_uri": "https://localhost:8080/"
        },
        "id": "6EF7su956xry",
        "outputId": "c8992bcc-b29c-481c-e3d6-4d56c3551cfc"
      },
      "execution_count": null,
      "outputs": [
        {
          "output_type": "stream",
          "name": "stdout",
          "text": [
            "Expresión : 9*1-3+4/2, en 186 iteraciones\n"
          ]
        }
      ]
    },
    {
      "cell_type": "code",
      "source": [
        "expression, iter = simulated_annealing(76)\n",
        "\n",
        "\n",
        "if expression:\n",
        "    print(f\"Expresión : {expression}, en {iter} iteraciones\")\n",
        "else:\n",
        "    print(f\"No se encuentra expresión. Número de iteraciones totales: {iter}.\")"
      ],
      "metadata": {
        "colab": {
          "base_uri": "https://localhost:8080/"
        },
        "id": "AT774ECe6-6T",
        "outputId": "85d43cbb-d89e-4942-eab4-f9747eada014"
      },
      "execution_count": null,
      "outputs": [
        {
          "output_type": "stream",
          "name": "stdout",
          "text": [
            "Expresión : 8/1*9-2+6, en 485 iteraciones\n"
          ]
        }
      ]
    },
    {
      "cell_type": "code",
      "source": [
        "expression, iter = simulated_annealing(-69)\n",
        "\n",
        "\n",
        "if expression:\n",
        "    print(f\"Expresión : {expression}, en {iter} iteraciones\")\n",
        "else:\n",
        "    print(f\"No se encuentra expresión. Número de iteraciones totales: {iter}.\")"
      ],
      "metadata": {
        "colab": {
          "base_uri": "https://localhost:8080/"
        },
        "id": "WqUwNSOa6-uV",
        "outputId": "37d3deb9-6872-462e-8247-3bb316c14696"
      },
      "execution_count": null,
      "outputs": [
        {
          "output_type": "stream",
          "name": "stdout",
          "text": [
            "Expresión : 1+6/3-8*9, en 168 iteraciones\n"
          ]
        }
      ]
    },
    {
      "cell_type": "code",
      "source": [
        "expression, iter = simulated_annealing(90)\n",
        "\n",
        "\n",
        "if expression:\n",
        "    print(f\"Expresión : {expression}, en {iter} iteraciones\")\n",
        "else:\n",
        "    print(f\"No se encuentra expresión. Número de iteraciones totales: {iter}.\")"
      ],
      "metadata": {
        "colab": {
          "base_uri": "https://localhost:8080/"
        },
        "id": "7OiV8NjI6-im",
        "outputId": "334c2f6e-76e2-4999-93c9-32b81f26e698"
      },
      "execution_count": null,
      "outputs": [
        {
          "output_type": "stream",
          "name": "stdout",
          "text": [
            "No se encuentra expresión. Número de iteraciones totales: 19701.\n"
          ]
        }
      ]
    },
    {
      "cell_type": "markdown",
      "source": [
        "Con este algoritmo heurístico de recocido simulado se disminuye la cantidad de iteraciones que se realizan para encontrar un valor pero también es probable que si no encuentra el valor en un número determiado de iteraciones nos devuelva que no hay expresión, y esto puede ser un problema, aunque con el análisis previo sobre el valor mínimo y ,máximo sabemos que si no encuentra una solución para un valor que si que deberia tener podemos ajustar los parametros de temperatura o el factor de enfriamiento para que realice más operaciones, aún perdiendo un poco de eficiencia.\n",
        "\n",
        "Es una buena solución para disminuir el tiempo de de ejecución y el número de veces que realiza las operaciones.\n",
        "\n",
        "Otra solución con algoritmos heuristicos podria ser por algoritmos genéticos, usando el algoritmo de la coloniade hormigas por ejemplo.\n",
        "\n",
        "Pero de momento no es algo que crea que sea necesario implementar ya que con el recocido simulado se ve como el número de iteracioes que se realizan tiende a ser bastante bajo."
      ],
      "metadata": {
        "id": "rlGZFK_CA0J1"
      }
    },
    {
      "cell_type": "markdown",
      "metadata": {
        "id": "3_-exlrTgLd-"
      },
      "source": [
        "**(*)¿Cuantas posibilidades hay sin tener en cuenta las restricciones?<br>**\n",
        "\n",
        "\n",
        "\n",
        "**¿Cuantas posibilidades hay teniendo en cuenta todas las restricciones.**\n",
        "\n"
      ]
    },
    {
      "cell_type": "markdown",
      "metadata": {
        "id": "WfCUqJyKhPcw"
      },
      "source": [
        "Respuesta"
      ]
    },
    {
      "cell_type": "code",
      "metadata": {
        "id": "iq6Fe32MgpDX",
        "colab": {
          "base_uri": "https://localhost:8080/"
        },
        "outputId": "59a1cbad-40d5-4090-943f-86d7df71607b"
      },
      "source": [
        "def evaluate_expression(numbers, operators):\n",
        "  # A esta función se le pasa una lista de 5 digitos y 4 operadores, y los coloca en el orden correspondeinte.\n",
        "  # Por ejemplo: (1, 2, 3, 4, 5) y ('+', '-', '*', '/') no devuelve la expresión  '1+2-3*4/5' y la evalua.\n",
        "    expression = \"\"\n",
        "    for i in range(len(numbers)):\n",
        "        expression += str(numbers[i])\n",
        "        if i < len(operators):\n",
        "            expression += operators[i]\n",
        "    return eval(expression)\n",
        "\n",
        "numbers = [1, 2, 3, 4, 5, 6, 7, 8, 9]\n",
        "operators = ['+', '-', '*', '/']\n",
        "iter = 0\n",
        "iter_int = 0\n",
        "posibles_valores = []\n",
        "\n",
        "\n",
        "for number_perm in permutations(numbers, 5):\n",
        "    for operator_comb in permutations(operators):\n",
        "        result = evaluate_expression(number_perm, operator_comb)\n",
        "        iter += 1\n",
        "        if result-math.trunc(result)==0:\n",
        "            iter_int+=1\n",
        "            posibles_valores.append(result)\n",
        "\n",
        "\n",
        "print(f\"Total iteraciones: {iter}\")\n",
        "print(f\"Total iteraciones con resultado entero: {iter_int}\")\n",
        "\n",
        "\n"
      ],
      "execution_count": null,
      "outputs": [
        {
          "output_type": "stream",
          "name": "stdout",
          "text": [
            "Total iteraciones: 362880\n",
            "Total iteraciones con resultado entero: 90000\n"
          ]
        }
      ]
    },
    {
      "cell_type": "markdown",
      "source": [
        "como hemos visto antes, hay 362.880 posibles permutaciones, y si excluimos las soluciones con números decimales podemos reducir esto a 90.000 posibilidades.\n",
        "Si a esto le añadimos que no todas las permutaciones de los operadores son necesarias, podemos resumir en que de las 24 posibles permutaciones solo se necesitan las siguientes:\n",
        "\n",
        "- ['+', '-', 'x', '/'] ~ ['+', '-', '/', 'x'], [ '-', 'x', '/', '+'], ['-', '/', 'x', '+']\n",
        "- ['+', 'x', '-', '/'] ~ ['x', '+', '-', '/'], [ '-', '/', '+', 'x'], ['x', '-', '/', '+']\n",
        "- ['+', '/', '-', 'x'] ~ ['/', '-', 'x', '+'], [ '-', 'x', '+', '/'], ['/', '+', '-', 'x']\n",
        "- ['/', '+', 'x', '-'] ~ ['x', '-', '+', '/'], [ 'x', '+', '/', '-'], ['/', '-', '+', 'x']\n",
        "- ['+', 'x', '/', '-'] ~ ['+', '/', 'x', '-'], [ '-', '+', '/', 'x'], ['-', '+', 'x', '/'], ['/', 'x', '+', '-'], ['/', 'x', '-', '+'], [ 'x', '/', '+', '-'], ['x', '/', '-', '+']\n",
        "\n",
        "Esto nos indica que el número de posibles combinaciones excluyendo combinaciones que son equivalentes y combinaciones que nos llevan a soluciones con decimales es de : 90000x5/24 = 18.750, un número bastante pequeño para la aplitud inicial que tenia el problema.\n",
        "\n",
        "Queda bastante claro que si aplicamos algunas restricciones a el problema por fuera bruta, podando las soluciones no viables, se podría llegar a optimizar mucho este algoritmo. aunque por otro lado tendremos que ver todas las permutaciones númericas y realizar un mínimo de operaciones en cada iteración para ver si la solución es o no viable.\n",
        "\n",
        "Así que de momento nos quedamos con el algoritmo de recocido simulado."
      ],
      "metadata": {
        "id": "IUOYIwFEChEw"
      }
    },
    {
      "cell_type": "markdown",
      "metadata": {
        "id": "dzynfVJahHoY"
      },
      "source": [
        "\n",
        "**Modelo para el espacio de soluciones<br>**\n",
        "**(*) ¿Cual es la estructura de datos que mejor se adapta al problema? Argumentalo.(Es posible que hayas elegido una al principio y veas la necesidad de cambiar, arguentalo)**\n",
        "\n"
      ]
    },
    {
      "cell_type": "markdown",
      "metadata": {
        "id": "xFIJrOwKi2Ti"
      },
      "source": [
        "Respuesta"
      ]
    },
    {
      "cell_type": "markdown",
      "source": [
        "Para este problema en concreto creo que la estructura que mejor se adapta sería la estructura de Arbol, empezando por cada uno de los dígitos y creando ramas con las diferentes opciones de operaciones.\n",
        "\n",
        "Esto puede beneficiarnos para descartar ramas que no son viables, haciendo evaluaciones parciales de las soluciones para poder directamente descartar conjuntos de soluciones de forma eficiente.\n",
        "\n",
        "También por su estructura es una forma muy clara y visual, que puede ayudar a entender mejor el problema."
      ],
      "metadata": {
        "id": "7F4IMuOJRhk0"
      }
    },
    {
      "cell_type": "markdown",
      "metadata": {
        "id": "7Z9U2W7bi-XS"
      },
      "source": [
        "**Según el modelo para el espacio de soluciones<br>**\n",
        "**(*)¿Cual es la función objetivo?**\n",
        "\n",
        "**(*)¿Es un problema de maximización o minimización?**"
      ]
    },
    {
      "cell_type": "markdown",
      "metadata": {
        "id": "hBalWLM7j1_d"
      },
      "source": [
        "Respuesta"
      ]
    },
    {
      "cell_type": "markdown",
      "source": [
        "Como no se trata de un problema de optimización, si no de busqueda, no es un problema que tenga una funcion objetivo asociada, ya que no hay una funcion que se tenga que maximizar o minimizar.Lo único que podemos definir es:\n",
        "\n",
        " f(x,expresion) = x - eval(expresion)\n",
        "\n",
        " para alguna expresión de las que se a definido en el problema. Pero esto no se puede considerar función objetivo, ya que un valor mínimo o máximo para esta función no se puede considerar solución, solo se puede considerar que la expresión es solución si\n",
        "\n",
        " f(x, expresion) = 0\n",
        "\n",
        " Esto por tanto responde a la siguiente pregunta, no se trata de un problema de minimización ni de maximización, se trata de un problema de busqueda."
      ],
      "metadata": {
        "id": "tKYGZGkFVJyQ"
      }
    },
    {
      "cell_type": "markdown",
      "metadata": {
        "id": "rlnTYgY1j6I2"
      },
      "source": [
        "Diseña un algoritmo para resolver el problema por fuerza bruta"
      ]
    },
    {
      "cell_type": "markdown",
      "metadata": {
        "id": "70rDgxYXkC8r"
      },
      "source": [
        "Respuesta"
      ]
    },
    {
      "cell_type": "code",
      "metadata": {
        "id": "CJb5sQ0qkENy"
      },
      "source": [
        "def find_expression(target):\n",
        "  # Con esta función hacemos todas las permutaciónes de los 9 digitos y las 4 operaciones para buscar el valor target.\n",
        "  # Si no encuentra ninguna expresion que devuelva ese valor nos devuelve un none.\n",
        "    numbers = [1, 2, 3, 4, 5, 6, 7, 8, 9]\n",
        "    operators = ['+', '-', '*', '/']\n",
        "    iter = 0\n",
        "    posibles_valores = []\n",
        "\n",
        "\n",
        "    for number_perm in permutations(numbers, 5):\n",
        "        for operator_comb in permutations(operators):\n",
        "            result = evaluate_expression(number_perm, operator_comb)\n",
        "            iter += 1\n",
        "            if result == target:\n",
        "                expression = \"\"\n",
        "                for i in range(len(number_perm)):\n",
        "                    expression += str(number_perm[i])\n",
        "                    if i < len(operator_comb):\n",
        "                        expression += operator_comb[i]\n",
        "                return expression, iter\n",
        "\n",
        "    return None, iter\n",
        "\n"
      ],
      "execution_count": null,
      "outputs": []
    },
    {
      "cell_type": "markdown",
      "metadata": {
        "id": "tgrnsC2nkFa8"
      },
      "source": [
        "**Calcula la complejidad del algoritmo por fuerza bruta**"
      ]
    },
    {
      "cell_type": "markdown",
      "metadata": {
        "id": "9eUd3xwckP68"
      },
      "source": [
        "Respuesta"
      ]
    },
    {
      "cell_type": "markdown",
      "source": [
        "Este es el algoritmo que hay más arriba, la complejidad sería, para este problema en cuentión, realizando 4 operaciones sobre 5 dígitos elegidos entre una lista de 9 dígitos, como hemos dicho antes el numero total de permutacíones es de 362.880 esto lo tenemos que mutiplicar por el núero de operaciones que se realizan en cada permutacion, que son 4 operaciones más la concatenación de los dígitos con los operadores, que son 9 (esto no estoy del todo seguro de que se tenga que considerar) por lo tanto 13 x 362880 = 4.717.440 es el total de operaciones que realiza el cógigo (esto en el caso de que se ejeute para todas las permutaciones y no encuentre el valor introducido) y a esto se le sumarian las asignaciones iniciales de los vectores numbers y operations +2."
      ],
      "metadata": {
        "id": "6vxM0yN-XWMH"
      }
    },
    {
      "cell_type": "markdown",
      "metadata": {
        "id": "txbrmLmskReM"
      },
      "source": [
        "\n",
        "\n",
        "**(*)Diseña un algoritmo que mejore la complejidad del algortimo por fuerza bruta. Argumenta porque crees que mejora el algoritmo por fuerza bruta**"
      ]
    },
    {
      "cell_type": "markdown",
      "metadata": {
        "id": "hLrVwt5QkZPD"
      },
      "source": [
        "Respuesta"
      ]
    },
    {
      "cell_type": "markdown",
      "source": [
        "El algoritmo que he diseñado al inicio del seminario es un ejemplo de optimización del problema, pero como he comentado antes puede tener un problema, y es que si no encuentra la solución antes de que la tempereature alcance el mínimo, teniendo solucion puede fallar. la solución es aumentar la temperatura. Pero al estar acercandose constantemente al valor buscado es más facil que llegue a la solución antes de fallar.\n"
      ],
      "metadata": {
        "id": "GnmcJngda1qa"
      }
    },
    {
      "cell_type": "code",
      "metadata": {
        "id": "m1eyM21Vkabg"
      },
      "source": [
        "def generate_initial_state(operations, numbers):\n",
        "    # Generar una expresión inicial aleatoria\n",
        "    random_numbers = random.sample(numbers, 5)\n",
        "    random_operations = random.sample(operations,4)\n",
        "    expression = str(random_numbers[0])\n",
        "    for i in range(1, len(random_numbers)):\n",
        "        expression += random_operations[i-1] + str(random_numbers[i])\n",
        "    return expression\n",
        "\n",
        "def generate_neighbor(expression,numbers):\n",
        "    # Generar un vecino aleatorio modificando la expresión actual\n",
        "    # Permutamos dos operadores y cambiamos una cifra por otra no presente en la expresion\n",
        "    expr_list = list(expression)\n",
        "    index = random.sample([1,3,5,7], 2)\n",
        "    expr_list[index[0]], expr_list[index[1]] = expr_list[index[1]], expr_list[index[0]]\n",
        "    index_num = random.choice([0, 2, 4, 6 , 8])\n",
        "    expr_list[index_num] = str(random.choice([ x for x in numbers if str(x) not in expression]))\n",
        "    return ''.join(expr_list)\n",
        "\n",
        "def bajar_temp(T):\n",
        "    # Mutiplicamos la temperatura por el factor de enfriamiento\n",
        "    return T*0.9\n",
        "\n",
        "\n",
        "\n",
        "\n",
        "def simulated_annealing(target):\n",
        "    \"\"\"Encuentra una combinación de números y operaciones que resulte en el número objetivo usando Recocido Simulado\"\"\"\n",
        "    operations = ['+', '-', '*', '/']\n",
        "    numbers = [1, 2, 3, 4, 5, 6, 7, 8, 9]\n",
        "\n",
        "\n",
        "\n",
        "\n",
        "    current_state = generate_initial_state(operations, numbers)\n",
        "    current_value = eval(current_state)\n",
        "    current_heuristic = abs(current_value - target)\n",
        "\n",
        "    T = 1.0  # Temperatura inicial\n",
        "    T_min = 0.000000001  # Temperatura mínima\n",
        "    iter = 1 # contar el número de iteraciones\n",
        "\n",
        "    while T > T_min:\n",
        "        for _ in range(100):  # Número de iteraciones por temperatura\n",
        "            neighbor_state = generate_neighbor(current_state, numbers)\n",
        "            neighbor_value = eval(neighbor_state)\n",
        "            neighbor_heuristic = abs(neighbor_value - target)\n",
        "            iter += 1\n",
        "\n",
        "            if neighbor_heuristic == 0:\n",
        "                return neighbor_state, iter\n",
        "\n",
        "            delta_heuristic = neighbor_heuristic - current_heuristic\n",
        "            if delta_heuristic < 0 or math.exp(-delta_heuristic / T) > random.random():\n",
        "                current_state = neighbor_state\n",
        "                current_value = neighbor_value\n",
        "                current_heuristic = neighbor_heuristic\n",
        "\n",
        "        T = bajar_temp(T)\n",
        "\n",
        "    return None, iter\n",
        "\n"
      ],
      "execution_count": null,
      "outputs": []
    },
    {
      "cell_type": "markdown",
      "source": [
        "Como he comentado antes, otra forma de optimizar el código de uana forma más directa seria evitar todas las posibles permutaciones, evitando expresiones equivalentes, y también excluir las soluciones donde el operador de división nos devuelve un valor decimal. esto reduciría de una forma muy considerable el número total de operaciones."
      ],
      "metadata": {
        "id": "GA-eo7p0cF2D"
      }
    },
    {
      "cell_type": "markdown",
      "metadata": {
        "id": "eGDB4K6uk1iN"
      },
      "source": [
        "**(*)Calcula la complejidad del algoritmo**"
      ]
    },
    {
      "cell_type": "markdown",
      "source": [
        "Para los valores introducidos de temperatura, temperatura mínima,... el número final de iteraciones que realiza es de 19.701, igual que antes habría que mutiplicar esto por las operaciones, que en este caso son 3 asignaciones ( ya que no construye la expresión, si no que la modifica) y las 4 operaciones del eval. esto nos da 19.701 x 7 = 137.907 más la primera asignacion y el primer calculo.\n",
        "\n",
        "Hay una diferencia bastante grande entre el coste de este algoritmo en comparación con la fuerza bruta."
      ],
      "metadata": {
        "id": "19z3IzAfcy7P"
      }
    },
    {
      "cell_type": "markdown",
      "metadata": {
        "id": "NhpTh_BPk1ms"
      },
      "source": [
        "Respuesta"
      ]
    },
    {
      "cell_type": "markdown",
      "metadata": {
        "id": "3M6QjTsSkmYe"
      },
      "source": [
        "**Según el problema (y tenga sentido), diseña un juego de datos de entrada aleatorios**"
      ]
    },
    {
      "cell_type": "markdown",
      "metadata": {
        "id": "Jc3_OlyNkvjZ"
      },
      "source": [
        "Respuesta"
      ]
    },
    {
      "cell_type": "markdown",
      "source": [
        "En el apartado anterior está la funcion generate_initial_state, que rea una solución aleatoria para este problema"
      ],
      "metadata": {
        "id": "q95DhMS0d7Ts"
      }
    },
    {
      "cell_type": "markdown",
      "metadata": {
        "id": "zy5ZROmjlGo1"
      },
      "source": [
        "\n",
        "\n",
        "**Aplica el algoritmo al juego de datos generado**"
      ]
    },
    {
      "cell_type": "markdown",
      "metadata": {
        "id": "_Cmj-PVylMsa"
      },
      "source": [
        "Respuesta"
      ]
    },
    {
      "cell_type": "markdown",
      "source": [
        "Esto está presente en el algoritmo del recocido simulado."
      ],
      "metadata": {
        "id": "W5dHlIm8eM9K"
      }
    },
    {
      "cell_type": "markdown",
      "metadata": {
        "id": "eTFWUJQrtGcv"
      },
      "source": [
        "**Enumera las referencias que has utilizado(si ha sido necesario) para llevar a cabo el trabajo**"
      ]
    },
    {
      "cell_type": "markdown",
      "metadata": {
        "id": "YKQ_mRBttWsP"
      },
      "source": [
        "Respuesta"
      ]
    },
    {
      "cell_type": "markdown",
      "source": [
        "No he usado ninguna referencia externa más que los apuntes de clase y los códigos de las entregas AG."
      ],
      "metadata": {
        "id": "LQCUgz7SebnA"
      }
    },
    {
      "cell_type": "markdown",
      "metadata": {
        "id": "kAkDPUyRtYyH"
      },
      "source": [
        "Describe brevemente las lineas de como crees que es posible avanzar en el estudio del problema. Ten en cuenta incluso posibles variaciones del problema y/o variaciones al alza del tamaño"
      ]
    },
    {
      "cell_type": "markdown",
      "metadata": {
        "id": "IE0uZmo-tZu-"
      },
      "source": [
        "Respuesta"
      ]
    },
    {
      "cell_type": "markdown",
      "source": [
        "Otra buena solución para este problema sería por algoritmos geneticos, creo que aumentar el tamaño de los números de entrada, o el hacer modificaciones del tamaño de las expresiones o aumentar las posibles soluciones a no solo enteros pueden empeaorar mucho el funcionamiento de la fuerza bruta. Optaría por algoritmos heurísticos aunque disminuya la precisión, ya que con este tipo de algoritmos  que se van acercando a la solución y es bastante sencillo que acabe dando una solución buena en pocas iteraciones."
      ],
      "metadata": {
        "id": "7RkaSCjhepVP"
      }
    },
    {
      "cell_type": "markdown",
      "source": [
        "Espero haya resultado interesante, no he tenido mucho tiempo para realizar la entrega por el trabajo, pero me he intentado esforzar y no dar una solución determinista, evitar la ramificación y poda que es la solución más intuitiva para este tipo de problemas de busqueda, y analizar todo bien para que no quede un trabajo simple.\n",
        "\n",
        "Un saludo profe!"
      ],
      "metadata": {
        "id": "TInp0yiygW_9"
      }
    }
  ]
}