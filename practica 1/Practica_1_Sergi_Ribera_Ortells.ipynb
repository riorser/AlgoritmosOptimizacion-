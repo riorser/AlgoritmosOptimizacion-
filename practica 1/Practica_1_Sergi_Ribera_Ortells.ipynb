{
  "nbformat": 4,
  "nbformat_minor": 0,
  "metadata": {
    "colab": {
      "provenance": []
    },
    "kernelspec": {
      "name": "python3",
      "display_name": "Python 3"
    },
    "language_info": {
      "name": "python"
    }
  },
  "cells": [
    {
      "cell_type": "markdown",
      "source": [
        "#Actividad Guiada 1 de Algoritmos de Optimizacion\n",
        "\n",
        "Nombre: Sergi Ribera Ortells\n",
        "Enlace Google_Colab: https://colab.research.google.com/drive/1W3IoYoVPij_cdLQDeOloqIOzeuzu2ORO#scrollTo=t9vPq_UqH_Hn"
      ],
      "metadata": {
        "id": "t9vPq_UqH_Hn"
      }
    },
    {
      "cell_type": "markdown",
      "source": [
        "**Torres de Hanoi - Divide y venceras**\n",
        "\n",
        "El número de la ficha es creciente, la ficha 1 es la más pequeña, la 2 es la segunda más pequeña, y asi progresivamente"
      ],
      "metadata": {
        "id": "Oil_Xn3oInwD"
      }
    },
    {
      "cell_type": "code",
      "execution_count": 2,
      "metadata": {
        "colab": {
          "base_uri": "https://localhost:8080/",
          "height": 0
        },
        "id": "mgZnIPN_unuD",
        "outputId": "888982b7-208a-42ba-c1fa-ff2aae171a6e"
      },
      "outputs": [
        {
          "output_type": "stream",
          "name": "stdout",
          "text": [
            "Lleva la ficha 1 desde 1 hasta 2\n",
            "Lleva la ficha 2 desde 1 hasta 3\n",
            "Lleva la ficha 1 desde 2 hasta 3\n",
            "Lleva la ficha 3 desde 1 hasta 2\n",
            "Lleva la ficha 1 desde 3 hasta 1\n",
            "Lleva la ficha 2 desde 3 hasta 2\n",
            "Lleva la ficha 1 desde 1 hasta 2\n",
            "Lleva la ficha 4 desde 1 hasta 3\n",
            "Lleva la ficha 1 desde 2 hasta 3\n",
            "Lleva la ficha 2 desde 2 hasta 1\n",
            "Lleva la ficha 1 desde 3 hasta 1\n",
            "Lleva la ficha 3 desde 2 hasta 3\n",
            "Lleva la ficha 1 desde 1 hasta 2\n",
            "Lleva la ficha 2 desde 1 hasta 3\n",
            "Lleva la ficha 1 desde 2 hasta 3\n"
          ]
        }
      ],
      "source": [
        "\n",
        "def Torres_Hanoi(N, desde, hasta):\n",
        "  #N - Nº de fichas\n",
        "  #desde - torre inicial\n",
        "  #hasta - torre fina\n",
        "  if N==1 :\n",
        "    print(\"Lleva la ficha \" + str(N) + \" desde \" + str(desde) + \" hasta \" + str(hasta))\n",
        "\n",
        "  else:\n",
        "    Torres_Hanoi(N-1, desde, 6-desde-hasta)\n",
        "    print(\"Lleva la ficha \" + str(N) + \" desde \" + str(desde) + \" hasta \" + str(hasta))\n",
        "    Torres_Hanoi(N-1, 6-desde-hasta,  hasta)\n",
        "\n",
        "Torres_Hanoi(4, 1, 3)\n"
      ]
    },
    {
      "cell_type": "markdown",
      "source": [
        "#Cambio de monedas - Técnica voraz\n"
      ],
      "metadata": {
        "id": "qSAGN_6oKX9j"
      }
    },
    {
      "cell_type": "code",
      "source": [
        "\n",
        "SISTEMA = [10, 5 ,  1  ]\n",
        "\n",
        "def cambio_monedas(CANTIDAD,SISTEMA):\n",
        "# CANTIDAD es el dinero que se tiene que devolver\n",
        "# SISTEMA son los importes disponibles para devolver el cambio\n",
        "\n",
        "  SOLUCION = [0]*len(SISTEMA)\n",
        "  ValorAcumulado = 0\n",
        "\n",
        "  for i,valor in enumerate(SISTEMA):\n",
        "    monedas = (CANTIDAD-ValorAcumulado)//valor\n",
        "    SOLUCION[i] = monedas\n",
        "    ValorAcumulado = ValorAcumulado + monedas*valor\n",
        "\n",
        "    if CANTIDAD == ValorAcumulado:\n",
        "      for j, valores in enumerate(SISTEMA):\n",
        "        if SOLUCION[j] not in (0, 1):\n",
        "          print(\"Se devuelven \"+ str(SOLUCION[j]) + \" monedas de \" + str(valores) + \" centimos\")\n",
        "        if SOLUCION[j] == 1:\n",
        "          print(\"Se devuelve \"+ str(SOLUCION[j]) + \" moneda de \" + str(valores) + \" centimos\")\n",
        "      return SOLUCION\n",
        "\n",
        "  print(\"No es posible encontrar solucion\")\n",
        "\n",
        "cambio_monedas(128,SISTEMA)\n",
        "\n"
      ],
      "metadata": {
        "colab": {
          "base_uri": "https://localhost:8080/",
          "height": 0
        },
        "id": "tdXZ3TPbKaYu",
        "outputId": "1fee330d-f73e-4aae-d6b5-2875472dff96"
      },
      "execution_count": 6,
      "outputs": [
        {
          "output_type": "stream",
          "name": "stdout",
          "text": [
            "Se devuelven 12 monedas de 10 centimos\n",
            "Se devuelve 1 moneda de 5 centimos\n",
            "Se devuelven 3 monedas de 1 centimos\n"
          ]
        },
        {
          "output_type": "execute_result",
          "data": {
            "text/plain": [
              "[12, 1, 3]"
            ]
          },
          "metadata": {},
          "execution_count": 6
        }
      ]
    },
    {
      "cell_type": "markdown",
      "source": [
        "#N Reinas - Vuelta Atrás"
      ],
      "metadata": {
        "id": "9_Bbqb9zKZxP"
      }
    },
    {
      "cell_type": "code",
      "source": [
        "\n",
        "#Verifica que en la solución parcial no hay amenazas entre reinas\n",
        "\n",
        "def es_prometedora(SOLUCION,etapa):\n",
        "\n",
        "  #print(SOLUCION)\n",
        "  #Si la solución tiene dos valores iguales no es valida => Dos reinas en la misma fila\n",
        "  for i in range(etapa+1):\n",
        "    #print(\"El valor \" + str(SOLUCION[i]) + \" está \" +  str(SOLUCION.count(SOLUCION[i])) + \" veces\")\n",
        "    if SOLUCION.count(SOLUCION[i]) > 1:\n",
        "      return False\n",
        "\n",
        "    #Verifica las diagonales\n",
        "    for j in range(i+1, etapa +1 ):\n",
        "      #print(\"Comprobando diagonal de \" + str(i) + \" y \" + str(j))\n",
        "      if abs(i-j) == abs(SOLUCION[i]-SOLUCION[j]) : return False\n",
        "  return True\n",
        "\n",
        "#Traduce la solución al tablero\n",
        "\n",
        "def escribe_solucion(S):\n",
        "\n",
        "  n = len(S)\n",
        "  for x in range(n):\n",
        "    print(\"\")\n",
        "    for i in range(n):\n",
        "      if S[i] == x+1:\n",
        "        print(\" X \" , end=\"\")\n",
        "      else:\n",
        "        print(\" - \", end=\"\")\n",
        "  print(\"\\n\")\n",
        "\n",
        "\n",
        "\n",
        "#Proceso principal de N-Reinas\n",
        "\n",
        "def reinas(N, solucion=[],etapa=0):\n",
        "\n",
        "  if len(solucion) == 0:         # [0,0,0...]\n",
        "    solucion = [0 for i in range(N) ]\n",
        "\n",
        "  for i in range(1, N+1):\n",
        "    solucion[etapa] = i\n",
        "    if es_prometedora(solucion, etapa):\n",
        "      if etapa == N-1:\n",
        "        print(solucion )\n",
        "\n",
        "        escribe_solucion(solucion)\n",
        "      else:\n",
        "        reinas(N, solucion, etapa+1)\n",
        "    else:\n",
        "      None\n",
        "\n",
        "  solucion[etapa] = 0\n",
        "\n",
        "reinas(5,solucion=[],etapa=0)"
      ],
      "metadata": {
        "colab": {
          "base_uri": "https://localhost:8080/",
          "height": 0
        },
        "id": "gTkeMomFKXWe",
        "outputId": "b1bd4536-408e-458d-eeca-9b12128cc77b"
      },
      "execution_count": 12,
      "outputs": [
        {
          "output_type": "stream",
          "name": "stdout",
          "text": [
            "[1, 3, 5, 2, 4]\n",
            "\n",
            " X  -  -  -  - \n",
            " -  -  -  X  - \n",
            " -  X  -  -  - \n",
            " -  -  -  -  X \n",
            " -  -  X  -  - \n",
            "\n",
            "[1, 4, 2, 5, 3]\n",
            "\n",
            " X  -  -  -  - \n",
            " -  -  X  -  - \n",
            " -  -  -  -  X \n",
            " -  X  -  -  - \n",
            " -  -  -  X  - \n",
            "\n",
            "[2, 4, 1, 3, 5]\n",
            "\n",
            " -  -  X  -  - \n",
            " X  -  -  -  - \n",
            " -  -  -  X  - \n",
            " -  X  -  -  - \n",
            " -  -  -  -  X \n",
            "\n",
            "[2, 5, 3, 1, 4]\n",
            "\n",
            " -  -  -  X  - \n",
            " X  -  -  -  - \n",
            " -  -  X  -  - \n",
            " -  -  -  -  X \n",
            " -  X  -  -  - \n",
            "\n",
            "[3, 1, 4, 2, 5]\n",
            "\n",
            " -  X  -  -  - \n",
            " -  -  -  X  - \n",
            " X  -  -  -  - \n",
            " -  -  X  -  - \n",
            " -  -  -  -  X \n",
            "\n",
            "[3, 5, 2, 4, 1]\n",
            "\n",
            " -  -  -  -  X \n",
            " -  -  X  -  - \n",
            " X  -  -  -  - \n",
            " -  -  -  X  - \n",
            " -  X  -  -  - \n",
            "\n",
            "[4, 1, 3, 5, 2]\n",
            "\n",
            " -  X  -  -  - \n",
            " -  -  -  -  X \n",
            " -  -  X  -  - \n",
            " X  -  -  -  - \n",
            " -  -  -  X  - \n",
            "\n",
            "[4, 2, 5, 3, 1]\n",
            "\n",
            " -  -  -  -  X \n",
            " -  X  -  -  - \n",
            " -  -  -  X  - \n",
            " X  -  -  -  - \n",
            " -  -  X  -  - \n",
            "\n",
            "[5, 2, 4, 1, 3]\n",
            "\n",
            " -  -  -  X  - \n",
            " -  X  -  -  - \n",
            " -  -  -  -  X \n",
            " -  -  X  -  - \n",
            " X  -  -  -  - \n",
            "\n",
            "[5, 3, 1, 4, 2]\n",
            "\n",
            " -  -  X  -  - \n",
            " -  -  -  -  X \n",
            " -  X  -  -  - \n",
            " -  -  -  X  - \n",
            " X  -  -  -  - \n",
            "\n"
          ]
        }
      ]
    },
    {
      "cell_type": "markdown",
      "source": [
        "#Viaje por el rio - Programación dinámica\n",
        "\n"
      ],
      "metadata": {
        "id": "1atg-JYoP6Dn"
      }
    },
    {
      "cell_type": "code",
      "source": [
        "\n",
        "TARIFAS = [\n",
        "[0,5,4,3,999,999,999],\n",
        "[999,0,999,2,3,999,11],\n",
        "[999,999, 0,1,999,4,10],\n",
        "[999,999,999, 0,5,6,9],\n",
        "[999,999, 999,999,0,999,4],\n",
        "[999,999, 999,999,999,0,3],\n",
        "[999,999,999,999,999,999,0]\n",
        "]\n",
        "\n",
        "#999 se puede sustituir por float(\"inf\")\n",
        "\n",
        "\n",
        "#Calculo de la matriz de PRECIOS y RUTAS\n",
        "\n",
        "def Precios(TARIFAS):\n",
        "\n",
        "  #Total de Nodos\n",
        "  N = len(TARIFAS[0])\n",
        "\n",
        "  #Inicialización de la tabla de precios\n",
        "  PRECIOS = [ [9999]*N for i in [9999]*N]\n",
        "  RUTA = [ [\"\"]*N for i in [\"\"]*N]\n",
        "\n",
        "  for i in range(0,N-1):\n",
        "    RUTA[i][i] = i             #Para ir de i a i se \"pasa por i\"\n",
        "    PRECIOS[i][i] = 0          #Para ir de i a i se se paga 0\n",
        "    for j in range(i+1, N):\n",
        "      MIN = TARIFAS[i][j]\n",
        "      RUTA[i][j] = i\n",
        "\n",
        "      for k in range(i, j):\n",
        "        if PRECIOS[i][k] + TARIFAS[k][j] < MIN:\n",
        "            MIN = min(MIN, PRECIOS[i][k] + TARIFAS[k][j] )\n",
        "            RUTA[i][j] = k          #Anota que para ir de i a j hay que pasar por k\n",
        "        PRECIOS[i][j] = MIN\n",
        "\n",
        "  return PRECIOS,RUTA\n",
        "################################################################\n",
        "\n",
        "PRECIOS,RUTA = Precios(TARIFAS)\n",
        "#print(PRECIOS[0][6])\n",
        "\n",
        "print(\"PRECIOS\")\n",
        "for i in range(len(TARIFAS)):\n",
        "  print(PRECIOS[i])\n",
        "\n",
        "print(\"\\nRUTA\")\n",
        "for i in range(len(TARIFAS)):\n",
        "  print(RUTA[i])\n",
        "\n",
        "#Determinar la ruta con Recursividad\n",
        "def calcular_ruta(RUTA, desde, hasta):\n",
        "  if desde == hasta:\n",
        "    #print(\"Ir a :\" + str(desde))\n",
        "    return desde\n",
        "  else:\n",
        "    return str(calcular_ruta( RUTA, desde, RUTA[desde][hasta])) +  \\\n",
        "                ',' + \\\n",
        "                str(hasta \\\n",
        "              )\n",
        "\n",
        "print(\"\\nLa ruta es:\")\n",
        "calcular_ruta(RUTA, 0,6)"
      ],
      "metadata": {
        "colab": {
          "base_uri": "https://localhost:8080/",
          "height": 365
        },
        "id": "w1ET20MdP6zN",
        "outputId": "fe8594c8-d733-48de-e635-95abf8ca83e3"
      },
      "execution_count": 48,
      "outputs": [
        {
          "output_type": "stream",
          "name": "stdout",
          "text": [
            "PRECIOS\n",
            "[0, 5, 4, 3, 8, 8, 11]\n",
            "[9999, 0, 999, 2, 3, 8, 7]\n",
            "[9999, 9999, 0, 1, 6, 4, 7]\n",
            "[9999, 9999, 9999, 0, 5, 6, 9]\n",
            "[9999, 9999, 9999, 9999, 0, 999, 4]\n",
            "[9999, 9999, 9999, 9999, 9999, 0, 3]\n",
            "[9999, 9999, 9999, 9999, 9999, 9999, 9999]\n",
            "\n",
            "RUTA\n",
            "[0, 0, 0, 0, 1, 2, 5]\n",
            "['', 1, 1, 1, 1, 3, 4]\n",
            "['', '', 2, 2, 3, 2, 5]\n",
            "['', '', '', 3, 3, 3, 3]\n",
            "['', '', '', '', 4, 4, 4]\n",
            "['', '', '', '', '', 5, 5]\n",
            "['', '', '', '', '', '', '']\n",
            "\n",
            "La ruta es:\n"
          ]
        },
        {
          "output_type": "execute_result",
          "data": {
            "text/plain": [
              "'0,2,5,6'"
            ],
            "application/vnd.google.colaboratory.intrinsic+json": {
              "type": "string"
            }
          },
          "metadata": {},
          "execution_count": 48
        }
      ]
    },
    {
      "cell_type": "markdown",
      "source": [
        " # Problema: Encontrar los dos puntos más cercano\n",
        "  • Dado un conjunto de puntos se trata de encontrar los dos puntos más cercanos\n"
      ],
      "metadata": {
        "id": "saCpTmmpP7wv"
      }
    },
    {
      "cell_type": "markdown",
      "source": [
        "**Primero lo vamos a intentar para 1 dimensión**\n",
        "\n",
        "Fuera bruta:"
      ],
      "metadata": {
        "id": "ejy_yFY0P7kD"
      }
    },
    {
      "cell_type": "code",
      "source": [
        "def puntos_cercanos1(vector):\n",
        "  a = vector[0]\n",
        "  b = vector[1]\n",
        "  dist= abs(vector[0] - vector[1])\n",
        "\n",
        "  for i in range(0,len(vector)-1):\n",
        "    for j in range(i+1,len(vector)):\n",
        "      if abs(vector[i] - vector[j]) < dist:\n",
        "        dist = abs(vector[i] - vector[j])\n",
        "        a = vector[i]\n",
        "        b = vector[j]\n",
        "\n",
        "  print(\"los puntos mas cercanos son: \" + str(a) + \" y \" + str(b))\n",
        "  return [a,b]\n",
        "\n",
        "import random\n",
        "lista1 = [random.randrange(1, 10000) for x in range(30)]\n",
        "print(str((lista1)))\n",
        "puntos_cercanos1(lista1)"
      ],
      "metadata": {
        "colab": {
          "base_uri": "https://localhost:8080/",
          "height": 0
        },
        "id": "opWQdFM3k6NY",
        "outputId": "9df3c0a5-ea14-42ae-c74b-d86cdf8bede5"
      },
      "execution_count": 60,
      "outputs": [
        {
          "output_type": "stream",
          "name": "stdout",
          "text": [
            "[4546, 792, 1010, 5311, 51, 2865, 3747, 9526, 8100, 2293, 1879, 1850, 9449, 6239, 4518, 6849, 4766, 8981, 2428, 6265, 6709, 4020, 5149, 6657, 5696, 9171, 8399, 6142, 4997, 7962]\n",
            "los puntos mas cercanos son: 6239 y 6265\n"
          ]
        },
        {
          "output_type": "execute_result",
          "data": {
            "text/plain": [
              "[6239, 6265]"
            ]
          },
          "metadata": {},
          "execution_count": 60
        }
      ]
    },
    {
      "cell_type": "markdown",
      "source": [
        "Esta solución tiene una complejidad de orden cuadratico:\n",
        "$$ 𝚶( n^2 )$$\n",
        "Vamos a probar a aplicar el metodo de divide y vencerás para optimizar este cálculo:"
      ],
      "metadata": {
        "id": "8TwgEn1nrvfl"
      }
    },
    {
      "cell_type": "code",
      "source": [
        "\n",
        "\n",
        "def puntos_cercanos2(vector):\n",
        "  if len(vector) == 2:\n",
        "    return vector\n",
        "\n",
        "  else:\n",
        "    v1 = puntos_cercanos2(vector[:-1])\n",
        "    v2 = puntos_cercanos2(vector[1:])\n",
        "    v3 = puntos_cercanos2([vector[0],vector[-1]])\n",
        "    if abs(v1[1] - v1[0]) <=  abs(v2[1] - v2[0]) and  abs(v1[1] - v1[0]) <=  abs(v3[1] - v3[0]):\n",
        "      return v1\n",
        "    if abs(v2[1] - v2[0]) <=  abs(v1[1] - v1[0]) and  abs(v2[1] - v2[0]) <=  abs(v3[1] - v3[0]):\n",
        "      return v2\n",
        "    else:\n",
        "      return v3\n",
        "\n",
        "\n",
        "\n",
        "import random\n",
        "lista1 = [random.randrange(1, 100) for x in range(10)]\n",
        "\n",
        "print(str((lista1)))\n",
        "sol = puntos_cercanos2(lista1)\n",
        "print(\"los puntos mas cercanos son: \" + str(sol[0]) + \" y \" + str(sol[1]))"
      ],
      "metadata": {
        "colab": {
          "base_uri": "https://localhost:8080/",
          "height": 0
        },
        "id": "vFxCFhlOsXY1",
        "outputId": "78cfd707-a590-40fe-cb76-6ea1803b6303"
      },
      "execution_count": 9,
      "outputs": [
        {
          "output_type": "stream",
          "name": "stdout",
          "text": [
            "[42, 75, 44, 34, 34, 29, 43, 52, 7, 91]\n",
            "los puntos mas cercanos son: 34 y 34\n"
          ]
        }
      ]
    },
    {
      "cell_type": "markdown",
      "source": [
        "Analizando la complejidad de este algoritmo vemos que cada vez que entra a la función con un vector de dimension n llama dos veces a la fucion con dimensión n-1, asi sucesivamente hasta llevar a dimensión 2. Analizando esto de la misma forma que el el código del problema de las torres de Hanoi, por tanto vemos que no llega a ser más eficiente que por fuerza bruta, si no que aumenta la complejidad a orden exponencial:\n",
        "$$ 𝚶(2^n) $$\n"
      ],
      "metadata": {
        "id": "aNbW_4fjB5-x"
      }
    },
    {
      "cell_type": "markdown",
      "source": [
        "Esto se podría mejorar si aplicamos la funcion sort al conjunto, que tiene una complejidad de orden\n",
        "$$ 𝚶( n \\log (n) ) $$\n",
        " y en lugar de cada vez acceder de forma recursiva a la función puntos_cercanos2 en dimension n-1 acceder en dos mitades, y comparar cada mitad con la distancia entre los dos puntos centrales tambien.\n",
        "esta función tambien tiene complejidad de orden :\n",
        "$$ 𝚶( n \\log (n) ) $$\n",
        "Por tanto la suma de las complejidades sigue siendo:\n",
        "$$ 𝚶( n \\log (n) ) $$"
      ],
      "metadata": {
        "id": "Kp9n6pkPEO3Z"
      }
    },
    {
      "cell_type": "code",
      "source": [
        "def puntos_cercanos3(vector):\n",
        "  vector.sort()\n",
        "  if len(vector) == 2:\n",
        "    return vector\n",
        "\n",
        "  else:\n",
        "    n = len(vector)//2\n",
        "    v1 = puntos_cercanos3(vector[:n+1])\n",
        "    v2 = puntos_cercanos3(vector[n:])\n",
        "    if abs(v1[1] - v1[0]) <=  abs(v2[1] - v2[0]) :\n",
        "      return v1\n",
        "    else:\n",
        "      return v2\n",
        "\n",
        "\n",
        "\n",
        "import random\n",
        "lista1 = [random.randrange(1, 100) for x in range(10)]\n",
        "\n",
        "print(str((lista1)))\n",
        "\n",
        "sol = puntos_cercanos3(lista1)\n",
        "print(\"los puntos mas cercanos son: \" + str(sol[0]) + \" y \" + str(sol[1]))"
      ],
      "metadata": {
        "colab": {
          "base_uri": "https://localhost:8080/",
          "height": 0
        },
        "id": "RKaOwlblEOQD",
        "outputId": "f8a7fcfc-41df-48b6-85ed-6a165a9174a5"
      },
      "execution_count": 1,
      "outputs": [
        {
          "output_type": "stream",
          "name": "stdout",
          "text": [
            "[42, 69, 40, 89, 58, 41, 62, 21, 24, 1]\n",
            "los puntos mas cercanos son: 40 y 41\n"
          ]
        }
      ]
    },
    {
      "cell_type": "markdown",
      "source": [
        "Por último, se puede ampliar este problema a listas con vectores [[2,5],[4,8],...] de dos dimensiones o de más dimensiones si en de calcular la siguiente diferencia:\n",
        "\n",
        "v1[1] - v1[0]\n",
        "\n",
        "Creamos una funcion que nos devuelva la distancia euclidea entre dos vectores y la aplicamos a estos dos valores v1[0] y v1[1]:\n",
        "\n",
        "$$ \\sqrt{(x_1 - y_1)^2 + (x_2 - y_2)^2 ... + (x_n - y_n)^2  } $$\n",
        "\n",
        "para vectores de dimension n.\n",
        "\n",
        "La función podria ser como la sigueinte:"
      ],
      "metadata": {
        "id": "9iRH7OPAEHHh"
      }
    },
    {
      "cell_type": "code",
      "source": [
        "import math\n",
        "\n",
        "def dist_euclidea(vect):\n",
        "   suma_diferencias_cuadradas = sum((v1 - v2)**2 for v1, v2 in zip(vect[0], vect[1]))\n",
        "   return math.sqrt(suma_diferencias_cuadradas)\n"
      ],
      "metadata": {
        "id": "lL0oDGrdL6kz"
      },
      "execution_count": 2,
      "outputs": []
    },
    {
      "cell_type": "markdown",
      "source": [
        "Y con esto quedaría terminada la prática 1.\n",
        "\n",
        "Un saludo profe. 😀"
      ],
      "metadata": {
        "id": "qLSwnEbUNQJC"
      }
    }
  ]
}